{
 "cells": [
  {
   "cell_type": "code",
   "execution_count": 3,
   "metadata": {},
   "outputs": [
    {
     "name": "stdout",
     "output_type": "stream",
     "text": [
      "1\n",
      "0\n",
      "GeForce GTX 1060\n"
     ]
    }
   ],
   "source": [
    "import torch\n",
    "print(torch.cuda.device_count())\n",
    "print(torch.cuda.current_device())\n",
    "print(torch.cuda.get_device_name(0))"
   ]
  },
  {
   "cell_type": "code",
   "execution_count": 4,
   "metadata": {},
   "outputs": [],
   "source": [
    "from torchvision import datasets, transforms\n",
    "import helper\n",
    "\n",
    "transform = transforms.Compose([transforms.ToTensor(),\n",
    "                               transforms.Normalize((0.5, 0.5, 0.5), (0.5, 0.5, 0.5))])\n",
    "\n",
    "trainset = datasets.FashionMNIST('/F_MNIST_data', download = True, train = True, transform = transform)\n",
    "trainloader = torch.utils.data.DataLoader(trainset, batch_size = 64, shuffle = True)"
   ]
  },
  {
   "cell_type": "code",
   "execution_count": 5,
   "metadata": {},
   "outputs": [
    {
     "data": {
      "text/plain": [
       "<matplotlib.axes._subplots.AxesSubplot at 0x1b3a9102eb8>"
      ]
     },
     "execution_count": 5,
     "metadata": {},
     "output_type": "execute_result"
    },
    {
     "data": {
      "image/png": "[encoded data removed]",
      "text/plain": [
       "<Figure size 432x288 with 1 Axes>"
      ]
     },
     "metadata": {
      "needs_background": "light"
     },
     "output_type": "display_data"
    }
   ],
   "source": [
    "image, label = next(iter(trainloader))\n",
    "helper.imshow(image[0, :])"
   ]
  },
  {
   "cell_type": "code",
   "execution_count": 6,
   "metadata": {},
   "outputs": [],
   "source": [
    "from torch import nn, optim\n",
    "import torch.nn.functional as F"
   ]
  },
  {
   "cell_type": "code",
   "execution_count": 7,
   "metadata": {},
   "outputs": [],
   "source": [
    "class Classifier(nn.Module):\n",
    "    def __init__(self):\n",
    "        super().__init__()\n",
    "        self.fc1 = nn.Linear(784, 256)\n",
    "        self.fc2 = nn.Linear(256, 128)\n",
    "        self.fc3 = nn.Linear(128, 64)\n",
    "        self.out = nn.Linear(64, 10)\n",
    "    \n",
    "    def forward(self, x):\n",
    "        x = x.view(x.shape[0], -1)\n",
    "        x = F.relu(self.fc1(x))\n",
    "        x = F.relu(self.fc2(x))\n",
    "        x = F.relu(self.fc3(x))\n",
    "        x = F.log_softmax(self.out(x), dim = 1)\n",
    "        \n",
    "        return x"
   ]
  },
  {
   "cell_type": "code",
   "execution_count": 6,
   "metadata": {},
   "outputs": [],
   "source": [
    "model = Classifier()\n",
    "criterion = nn.NLLLoss()\n",
    "optimizer = optim.Adam(model.parameters(), lr = 0.003)"
   ]
  },
  {
   "cell_type": "code",
   "execution_count": 7,
   "metadata": {},
   "outputs": [
    {
     "name": "stdout",
     "output_type": "stream",
     "text": [
      "Training loss: 479.54413256049156\n",
      "Training loss: 367.84268605709076\n",
      "Training loss: 336.12018272280693\n",
      "Training loss: 312.98709404468536\n",
      "Training loss: 295.30069284141064\n",
      "Training loss: 284.37563037127256\n",
      "Training loss: 272.2389514371753\n",
      "Training loss: 266.5160133391619\n",
      "Training loss: 254.98064855486155\n",
      "Training loss: 249.66892566531897\n"
     ]
    }
   ],
   "source": [
    "epochs = 10\n",
    "\n",
    "for e in range(epochs):\n",
    "    running_loss = 0\n",
    "    for images, labels in trainloader:\n",
    "        logps = model.forward(images)\n",
    "        loss = criterion(logps, labels)\n",
    "        optimizer.zero_grad()\n",
    "        loss.backward()\n",
    "        optimizer.step()\n",
    "        \n",
    "        running_loss += loss.item()\n",
    "    else:\n",
    "        print(f'Training loss: {running_loss}')"
   ]
  },
  {
   "cell_type": "code",
   "execution_count": 9,
   "metadata": {},
   "outputs": [
    {
     "data": {
      "image/png": "[encoded data removed]",
      "text/plain": [
       "<Figure size 432x648 with 2 Axes>"
      ]
     },
     "metadata": {
      "needs_background": "light"
     },
     "output_type": "display_data"
    }
   ],
   "source": [
    "testset = datasets.FashionMNIST('/F_MNIST_data/', download=True, train=False, transform=transform)\n",
    "testloader = torch.utils.data.DataLoader(testset, batch_size=64, shuffle=True)\n",
    "\n",
    "dataiter = iter(testloader)\n",
    "images, labels = dataiter.next()\n",
    "img = images[1]\n",
    "\n",
    "ps = torch.exp(model.forward(img))\n",
    "\n",
    "helper.view_classify(img, ps, version = 'Fashion')"
   ]
  },
  {
   "cell_type": "markdown",
   "metadata": {},
   "source": [
    "# Validation"
   ]
  },
  {
   "cell_type": "code",
   "execution_count": 15,
   "metadata": {},
   "outputs": [
    {
     "name": "stdout",
     "output_type": "stream",
     "text": [
      "Epoch: 1/30 Training Loss: 0.512.. Test Loss: 0.453.. Test Accuracy: 0.839..\n",
      "Epoch: 2/30 Training Loss: 0.393.. Test Loss: 0.394.. Test Accuracy: 0.861..\n",
      "Epoch: 3/30 Training Loss: 0.357.. Test Loss: 0.406.. Test Accuracy: 0.851..\n",
      "Epoch: 4/30 Training Loss: 0.335.. Test Loss: 0.381.. Test Accuracy: 0.856..\n",
      "Epoch: 5/30 Training Loss: 0.318.. Test Loss: 0.366.. Test Accuracy: 0.870..\n",
      "Epoch: 6/30 Training Loss: 0.305.. Test Loss: 0.370.. Test Accuracy: 0.868..\n",
      "Epoch: 7/30 Training Loss: 0.295.. Test Loss: 0.366.. Test Accuracy: 0.871..\n",
      "Epoch: 8/30 Training Loss: 0.287.. Test Loss: 0.362.. Test Accuracy: 0.872..\n",
      "Epoch: 9/30 Training Loss: 0.275.. Test Loss: 0.371.. Test Accuracy: 0.875..\n",
      "Epoch: 10/30 Training Loss: 0.268.. Test Loss: 0.381.. Test Accuracy: 0.868..\n",
      "Epoch: 11/30 Training Loss: 0.259.. Test Loss: 0.363.. Test Accuracy: 0.873..\n",
      "Epoch: 12/30 Training Loss: 0.256.. Test Loss: 0.344.. Test Accuracy: 0.883..\n",
      "Epoch: 13/30 Training Loss: 0.246.. Test Loss: 0.367.. Test Accuracy: 0.882..\n",
      "Epoch: 14/30 Training Loss: 0.243.. Test Loss: 0.350.. Test Accuracy: 0.880..\n",
      "Epoch: 15/30 Training Loss: 0.238.. Test Loss: 0.380.. Test Accuracy: 0.873..\n",
      "Epoch: 16/30 Training Loss: 0.235.. Test Loss: 0.370.. Test Accuracy: 0.881..\n",
      "Epoch: 17/30 Training Loss: 0.227.. Test Loss: 0.367.. Test Accuracy: 0.875..\n",
      "Epoch: 18/30 Training Loss: 0.225.. Test Loss: 0.392.. Test Accuracy: 0.881..\n",
      "Epoch: 19/30 Training Loss: 0.220.. Test Loss: 0.363.. Test Accuracy: 0.886..\n",
      "Epoch: 20/30 Training Loss: 0.218.. Test Loss: 0.364.. Test Accuracy: 0.883..\n",
      "Epoch: 21/30 Training Loss: 0.220.. Test Loss: 0.401.. Test Accuracy: 0.880..\n",
      "Epoch: 22/30 Training Loss: 0.210.. Test Loss: 0.375.. Test Accuracy: 0.885..\n",
      "Epoch: 23/30 Training Loss: 0.208.. Test Loss: 0.424.. Test Accuracy: 0.876..\n",
      "Epoch: 24/30 Training Loss: 0.205.. Test Loss: 0.398.. Test Accuracy: 0.880..\n",
      "Epoch: 25/30 Training Loss: 0.194.. Test Loss: 0.416.. Test Accuracy: 0.879..\n",
      "Epoch: 26/30 Training Loss: 0.198.. Test Loss: 0.371.. Test Accuracy: 0.889..\n",
      "Epoch: 27/30 Training Loss: 0.192.. Test Loss: 0.408.. Test Accuracy: 0.882..\n",
      "Epoch: 28/30 Training Loss: 0.194.. Test Loss: 0.402.. Test Accuracy: 0.888..\n",
      "Epoch: 29/30 Training Loss: 0.188.. Test Loss: 0.414.. Test Accuracy: 0.882..\n",
      "Epoch: 30/30 Training Loss: 0.188.. Test Loss: 0.409.. Test Accuracy: 0.884..\n"
     ]
    }
   ],
   "source": [
    "model = Classifier()\n",
    "criterion = nn.NLLLoss()\n",
    "optimizer = optim.Adam(model.parameters(), lr = 0.003)\n",
    "\n",
    "epochs = 30\n",
    "steps = 0\n",
    "\n",
    "train_losses, test_losses = [], []\n",
    "\n",
    "for e in range(epochs):\n",
    "    train_loss = 0\n",
    "    for images, labels in  trainloader:\n",
    "        optimizer.zero_grad()\n",
    "        log_ps = model(images)\n",
    "        loss = criterion(log_ps, labels)\n",
    "        loss.backward()\n",
    "        optimizer.step()\n",
    "        train_loss += loss.item()\n",
    "        \n",
    "    else:\n",
    "        test_loss = 0\n",
    "        accuracy = 0\n",
    "        with torch.no_grad():\n",
    "            for images, labels in testloader:\n",
    "                log_ps = model(images)\n",
    "                test_loss += criterion(log_ps, labels)\n",
    "                ps = torch.exp(log_ps)\n",
    "                top_p, top_class = ps.topk(1, dim = 1)\n",
    "                equals = top_class == labels.view(*top_class.shape)\n",
    "                accuracy += torch.mean(equals.type(torch.FloatTensor))\n",
    "                \n",
    "        train_losses.append(train_loss/len(trainloader))\n",
    "        test_losses.append(test_loss/len(testloader))\n",
    "        \n",
    "        print('Epoch: {}/{}'.format(e+1, epochs),\n",
    "              'Training Loss: {:.3f}..'.format(train_loss/len(trainloader)),\n",
    "              'Test Loss: {:.3f}..'.format(test_loss/len(testloader)),\n",
    "              'Test Accuracy: {:.3f}..'.format(accuracy/len(testloader)))\n",
    "        "
   ]
  },
  {
   "cell_type": "code",
   "execution_count": 16,
   "metadata": {},
   "outputs": [],
   "source": [
    "%matplotlib inline\n",
    "import matplotlib.pyplot as plt"
   ]
  },
  {
   "cell_type": "code",
   "execution_count": 19,
   "metadata": {},
   "outputs": [
    {
     "data": {
      "text/plain": [
       "<matplotlib.legend.Legend at 0x1b3b1494f28>"
      ]
     },
     "execution_count": 19,
     "metadata": {},
     "output_type": "execute_result"
    },
    {
     "data": {
      "image/png": "[encoded data removed]",
      "text/plain": [
       "<Figure size 432x288 with 1 Axes>"
      ]
     },
     "metadata": {
      "needs_background": "light"
     },
     "output_type": "display_data"
    }
   ],
   "source": [
    "plt.plot(train_losses, label = 'Training Loss')\n",
    "plt.plot(test_losses, label = 'Validation Loss')\n",
    "plt.legend(frameon = False)"
   ]
  },
  {
   "cell_type": "markdown",
   "metadata": {},
   "source": [
    "# DROPOUT"
   ]
  },
  {
   "cell_type": "code",
   "execution_count": 36,
   "metadata": {},
   "outputs": [],
   "source": [
    "class ClassifierWD(nn.Module):\n",
    "    def __init__(self):\n",
    "        super().__init__()\n",
    "        self.fc1 = nn.Linear(784, 256)\n",
    "        self.fc2 = nn.Linear(256, 128)\n",
    "        self.fc3 = nn.Linear(128, 64)\n",
    "        self.fc4 = nn.Linear(64, 10)\n",
    "        \n",
    "    def forward(self, x):\n",
    "        x = x.view(x.shape[0], -1)\n",
    "        x = F.dropout(F.relu(self.fc1(x)), p = 0.2)\n",
    "        x = F.dropout(F.relu(self.fc2(x)), p = 0.2)\n",
    "        x = F.dropout(F.relu(self.fc3(x)), p = 0.2)\n",
    "        x = F.log_softmax(self.fc4(x), dim = 1)\n",
    "        \n",
    "        return x"
   ]
  },
  {
   "cell_type": "code",
   "execution_count": 37,
   "metadata": {},
   "outputs": [
    {
     "name": "stdout",
     "output_type": "stream",
     "text": [
      "Epoch: 1/30 Training Loss: 0.510.. Test Loss: 0.453.. Test Accuracy: 0.834..\n",
      "Epoch: 2/30 Training Loss: 0.386.. Test Loss: 0.462.. Test Accuracy: 0.835..\n",
      "Epoch: 3/30 Training Loss: 0.351.. Test Loss: 0.378.. Test Accuracy: 0.865..\n",
      "Epoch: 4/30 Training Loss: 0.334.. Test Loss: 0.378.. Test Accuracy: 0.865..\n",
      "Epoch: 5/30 Training Loss: 0.317.. Test Loss: 0.375.. Test Accuracy: 0.870..\n",
      "Epoch: 6/30 Training Loss: 0.303.. Test Loss: 0.395.. Test Accuracy: 0.862..\n",
      "Epoch: 7/30 Training Loss: 0.292.. Test Loss: 0.391.. Test Accuracy: 0.869..\n",
      "Epoch: 8/30 Training Loss: 0.278.. Test Loss: 0.360.. Test Accuracy: 0.878..\n",
      "Epoch: 9/30 Training Loss: 0.273.. Test Loss: 0.380.. Test Accuracy: 0.870..\n",
      "Epoch: 10/30 Training Loss: 0.266.. Test Loss: 0.371.. Test Accuracy: 0.880..\n",
      "Epoch: 11/30 Training Loss: 0.258.. Test Loss: 0.361.. Test Accuracy: 0.876..\n",
      "Epoch: 12/30 Training Loss: 0.252.. Test Loss: 0.362.. Test Accuracy: 0.879..\n",
      "Epoch: 13/30 Training Loss: 0.247.. Test Loss: 0.377.. Test Accuracy: 0.876..\n",
      "Epoch: 14/30 Training Loss: 0.241.. Test Loss: 0.362.. Test Accuracy: 0.878..\n",
      "Epoch: 15/30 Training Loss: 0.236.. Test Loss: 0.393.. Test Accuracy: 0.875..\n",
      "Epoch: 16/30 Training Loss: 0.234.. Test Loss: 0.373.. Test Accuracy: 0.877..\n",
      "Epoch: 17/30 Training Loss: 0.227.. Test Loss: 0.381.. Test Accuracy: 0.884..\n",
      "Epoch: 18/30 Training Loss: 0.220.. Test Loss: 0.396.. Test Accuracy: 0.873..\n",
      "Epoch: 19/30 Training Loss: 0.219.. Test Loss: 0.391.. Test Accuracy: 0.881..\n",
      "Epoch: 20/30 Training Loss: 0.213.. Test Loss: 0.418.. Test Accuracy: 0.874..\n",
      "Epoch: 21/30 Training Loss: 0.207.. Test Loss: 0.370.. Test Accuracy: 0.885..\n",
      "Epoch: 22/30 Training Loss: 0.203.. Test Loss: 0.393.. Test Accuracy: 0.880..\n",
      "Epoch: 23/30 Training Loss: 0.205.. Test Loss: 0.380.. Test Accuracy: 0.884..\n",
      "Epoch: 24/30 Training Loss: 0.199.. Test Loss: 0.406.. Test Accuracy: 0.879..\n",
      "Epoch: 25/30 Training Loss: 0.192.. Test Loss: 0.375.. Test Accuracy: 0.884..\n",
      "Epoch: 26/30 Training Loss: 0.197.. Test Loss: 0.405.. Test Accuracy: 0.883..\n",
      "Epoch: 27/30 Training Loss: 0.193.. Test Loss: 0.422.. Test Accuracy: 0.879..\n",
      "Epoch: 28/30 Training Loss: 0.183.. Test Loss: 0.430.. Test Accuracy: 0.877..\n",
      "Epoch: 29/30 Training Loss: 0.186.. Test Loss: 0.431.. Test Accuracy: 0.881..\n",
      "Epoch: 30/30 Training Loss: 0.177.. Test Loss: 0.418.. Test Accuracy: 0.878..\n"
     ]
    }
   ],
   "source": [
    "model = ClassifierWD()\n",
    "criterion = nn.NLLLoss()\n",
    "optimizer = optim.Adam(model.parameters(), lr = 0.003)\n",
    "\n",
    "epochs = 30\n",
    "\n",
    "train_losses, test_losses = [], []\n",
    "\n",
    "for e in range(epochs):\n",
    "    train_loss = 0\n",
    "    for images, labels in trainloader:\n",
    "        optimizer.zero_grad()\n",
    "        log_ps = model(images)\n",
    "        loss = criterion(log_ps, labels)\n",
    "        loss.backward()\n",
    "        optimizer.step()\n",
    "        train_loss += loss.item()\n",
    "        \n",
    "    else:\n",
    "        test_loss = 0\n",
    "        accuracy = 0\n",
    "        with torch.no_grad():\n",
    "            model.eval()\n",
    "            for images, labels in testloader:\n",
    "                log_ps = model(images)\n",
    "                test_loss += criterion(log_ps, labels).item()\n",
    "                ps = torch.exp(log_ps)\n",
    "                top_p, top_class = ps.topk(1, dim = 1)\n",
    "                equals = top_class == labels.view(*top_class.shape)\n",
    "                accuracy += torch.mean(equals.type(torch.FloatTensor))\n",
    "        \n",
    "        model.train()\n",
    "        train_losses.append(train_loss/len(trainloader))\n",
    "        test_losses.append(test_loss/len(testloader))\n",
    "        \n",
    "        print('Epoch: {}/{}'.format(e+1, epochs),\n",
    "              'Training Loss: {:.3f}..'.format(train_loss/len(trainloader)),\n",
    "              'Test Loss: {:.3f}..'.format(test_loss/len(testloader)),\n",
    "              'Test Accuracy: {:.3f}..'.format(accuracy/len(testloader)))"
   ]
  },
  {
   "cell_type": "code",
   "execution_count": 38,
   "metadata": {},
   "outputs": [
    {
     "data": {
      "text/plain": [
       "<matplotlib.legend.Legend at 0x1b3b225d5f8>"
      ]
     },
     "execution_count": 38,
     "metadata": {},
     "output_type": "execute_result"
    },
    {
     "data": {
      "image/png": "[encoded data removed]",
      "text/plain": [
       "<Figure size 432x288 with 1 Axes>"
      ]
     },
     "metadata": {
      "needs_background": "light"
     },
     "output_type": "display_data"
    }
   ],
   "source": [
    "%matplotlib inline\n",
    "import matplotlib.pyplot as plt\n",
    "\n",
    "plt.plot(train_losses, label = 'Training Loss')\n",
    "plt.plot(test_losses, label = 'Test Loss')\n",
    "plt.legend(frameon = False)"
   ]
  },
  {
   "cell_type": "code",
   "execution_count": null,
   "metadata": {},
   "outputs": [],
   "source": []
  }
 ],
 "metadata": {
  "kernelspec": {
   "display_name": "Pytorch",
   "language": "python",
   "name": "pytorch"
  },
  "language_info": {
   "codemirror_mode": {
    "name": "ipython",
    "version": 3
   },
   "file_extension": ".py",
   "mimetype": "text/x-python",
   "name": "python",
   "nbconvert_exporter": "python",
   "pygments_lexer": "ipython3",
   "version": "3.6.7rc1"
  }
 },
 "nbformat": 4,
 "nbformat_minor": 2
}
